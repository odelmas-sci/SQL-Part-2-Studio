{
    "metadata": {
        "kernelspec": {
            "name": "SQL",
            "display_name": "SQL",
            "language": "sql"
        },
        "language_info": {
            "name": "sql",
            "version": ""
        },
        "extensions": {
            "azuredatastudio": {
                "version": 1,
                "views": []
            }
        }
    },
    "nbformat_minor": 2,
    "nbformat": 4,
    "cells": [
        {
            "cell_type": "markdown",
            "source": [
                "# Lesson 11: SQL Part 2 Studio\n",
                "\n",
                "> This studio asks you to create queries using the functions from this lesson. As you work through the studio, you may need to create more than one query to return the desired answer.  For others, you may need to combine functions together in order to answer the original query.  The questions have been organized in a way to help you puzzle out the answers.\n",
                "> \n",
                "> Happy querying! \n",
                "\n",
                "**The Dataset:**   \n",
                "\n",
                "> We will be working with the **BooksDB dataset** from Lesson 10.  You should already have access to it."
            ],
            "metadata": {
                "azdata_cell_guid": "bbaa021d-dbcb-4f90-a05f-f280d524589a"
            },
            "attachments": {}
        },
        {
            "cell_type": "markdown",
            "source": [
                "## The Questions:"
            ],
            "metadata": {
                "azdata_cell_guid": "bfc33995-70d4-4403-a870-39244e5e9727"
            }
        },
        {
            "cell_type": "markdown",
            "source": [
                "1.  Create a query that returns the longest title in the dataset.  We can do this in two steps.\n",
                "\n",
                "> A. Create a query that returns the length of the longest title.\n",
                "> \n",
                "> B. Create a query that uses the length you found in step A to find the longest title."
            ],
            "metadata": {
                "azdata_cell_guid": "29e63840-f200-4b1b-9239-4dc60a402c1d"
            },
            "attachments": {}
        },
        {
            "cell_type": "code",
            "source": [
                "-- Code here:\r\n",
                "SELECT TOP 1 LEN(title), title FROM BooksDB.dbo.books\r\n",
                "ORDER BY len(title) DESC;"
            ],
            "metadata": {
                "azdata_cell_guid": "fc1a211d-ea4e-446a-bbf8-e31499c50aba",
                "language": "sql"
            },
            "outputs": [
                {
                    "output_type": "display_data",
                    "data": {
                        "text/html": "(1 row affected)"
                    },
                    "metadata": {}
                },
                {
                    "output_type": "display_data",
                    "data": {
                        "text/html": "Total execution time: 00:00:00.057"
                    },
                    "metadata": {}
                },
                {
                    "output_type": "execute_result",
                    "metadata": {},
                    "execution_count": 5,
                    "data": {
                        "application/vnd.dataresource+json": {
                            "schema": {
                                "fields": [
                                    {
                                        "name": "(No column name)"
                                    },
                                    {
                                        "name": "title"
                                    }
                                ]
                            },
                            "data": [
                                {
                                    "0": "186",
                                    "1": "Soccernomics: Why England Loses, Why Germany and Brazil Win, and Why the U.S., Japan, Australia, Turkey--and Even Iraq--Are Destined to Become the Kings of the World's Most Popular Sport"
                                }
                            ]
                        },
                        "text/html": [
                            "<table>",
                            "<tr><th>(No column name)</th><th>title</th></tr>",
                            "<tr><td>186</td><td>Soccernomics: Why England Loses, Why Germany and Brazil Win, and Why the U.S., Japan, Australia, Turkey--and Even Iraq--Are Destined to Become the Kings of the World's Most Popular Sport</td></tr>",
                            "</table>"
                        ]
                    }
                }
            ],
            "execution_count": 5
        },
        {
            "cell_type": "markdown",
            "source": [
                "2.  Use what you learned in question 1 to find the shortest author name.  \n",
                "\n",
                "> A. Create a query that returns the length of the shortest author.\n",
                "> \n",
                "> B. Create a query that returns the shortest author's name."
            ],
            "metadata": {
                "azdata_cell_guid": "5de64491-7324-44ce-bda4-e22b07229854"
            },
            "attachments": {}
        },
        {
            "cell_type": "code",
            "source": [
                "-- Code here:\r\n",
                "SELECT TOP 1 LEN(title) AS 'Length', title FROM BooksDB.dbo.books\r\n",
                "ORDER BY len(title) ASC;"
            ],
            "metadata": {
                "azdata_cell_guid": "61423c75-cb55-470f-b062-a1901d3da67c",
                "language": "sql"
            },
            "outputs": [
                {
                    "output_type": "display_data",
                    "data": {
                        "text/html": "(1 row affected)"
                    },
                    "metadata": {}
                },
                {
                    "output_type": "display_data",
                    "data": {
                        "text/html": "Total execution time: 00:00:00.060"
                    },
                    "metadata": {}
                },
                {
                    "output_type": "execute_result",
                    "metadata": {},
                    "execution_count": 8,
                    "data": {
                        "application/vnd.dataresource+json": {
                            "schema": {
                                "fields": [
                                    {
                                        "name": "Length"
                                    },
                                    {
                                        "name": "title"
                                    }
                                ]
                            },
                            "data": [
                                {
                                    "0": "2",
                                    "1": "It"
                                }
                            ]
                        },
                        "text/html": [
                            "<table>",
                            "<tr><th>Length</th><th>title</th></tr>",
                            "<tr><td>2</td><td>It</td></tr>",
                            "</table>"
                        ]
                    }
                }
            ],
            "execution_count": 8
        },
        {
            "cell_type": "markdown",
            "source": [
                "3\\. How many titles contain the word \"The\"?  \n",
                "\n",
                "  \n",
                "\n",
                "> A. Is there a difference between the number of titles that use \"The\" or \"the\"?"
            ],
            "metadata": {
                "azdata_cell_guid": "97f50346-9729-4d1b-926c-e1b53c5c5e68"
            },
            "attachments": {}
        },
        {
            "cell_type": "code",
            "source": [
                "-- Code here:\r\n",
                "SELECT count(title) FROM BooksDB.dbo.books\r\n",
                "WHERE title LIKE '%The%'; \r\n",
                "\r\n",
                "SELECT COUNT(title) FROM BooksDB.dbo.books\r\n",
                "WHERE title LIKE '%the%';"
            ],
            "metadata": {
                "azdata_cell_guid": "f58433db-eb3b-46e0-bb4d-85ca52d359b5",
                "language": "sql"
            },
            "outputs": [
                {
                    "output_type": "display_data",
                    "data": {
                        "text/html": "(1 row affected)"
                    },
                    "metadata": {}
                },
                {
                    "output_type": "display_data",
                    "data": {
                        "text/html": "(1 row affected)"
                    },
                    "metadata": {}
                },
                {
                    "output_type": "display_data",
                    "data": {
                        "text/html": "Total execution time: 00:00:00.089"
                    },
                    "metadata": {}
                },
                {
                    "output_type": "execute_result",
                    "metadata": {},
                    "execution_count": 50,
                    "data": {
                        "application/vnd.dataresource+json": {
                            "schema": {
                                "fields": [
                                    {
                                        "name": "(No column name)"
                                    }
                                ]
                            },
                            "data": [
                                {
                                    "0": "4702"
                                }
                            ]
                        },
                        "text/html": [
                            "<table>",
                            "<tr><th>(No column name)</th></tr>",
                            "<tr><td>4702</td></tr>",
                            "</table>"
                        ]
                    }
                },
                {
                    "output_type": "execute_result",
                    "metadata": {},
                    "execution_count": 50,
                    "data": {
                        "application/vnd.dataresource+json": {
                            "schema": {
                                "fields": [
                                    {
                                        "name": "(No column name)"
                                    }
                                ]
                            },
                            "data": [
                                {
                                    "0": "4702"
                                }
                            ]
                        },
                        "text/html": [
                            "<table>",
                            "<tr><th>(No column name)</th></tr>",
                            "<tr><td>4702</td></tr>",
                            "</table>"
                        ]
                    }
                }
            ],
            "execution_count": 50
        },
        {
            "cell_type": "markdown",
            "source": [
                "4.  How many authors' names _start_ with 'Z'?"
            ],
            "metadata": {
                "azdata_cell_guid": "e0d89eca-410d-4e29-82ca-265b79c73fea"
            },
            "attachments": {}
        },
        {
            "cell_type": "code",
            "source": [
                "-- Code here:\r\n",
                "SELECT COUNT(authors) AS 'Authors Names Beginning with Z' FROM BooksDB.dbo.books\r\n",
                "WHERE authors LIKE 'Z%';"
            ],
            "metadata": {
                "azdata_cell_guid": "850f04c8-458a-4cfb-95c4-4dbb7a3d63d0",
                "language": "sql"
            },
            "outputs": [
                {
                    "output_type": "display_data",
                    "data": {
                        "text/html": "(1 row affected)"
                    },
                    "metadata": {}
                },
                {
                    "output_type": "display_data",
                    "data": {
                        "text/html": "Total execution time: 00:00:00.061"
                    },
                    "metadata": {}
                },
                {
                    "output_type": "execute_result",
                    "metadata": {},
                    "execution_count": 14,
                    "data": {
                        "application/vnd.dataresource+json": {
                            "schema": {
                                "fields": [
                                    {
                                        "name": "Authors Names Beginning with Z"
                                    }
                                ]
                            },
                            "data": [
                                {
                                    "0": "11"
                                }
                            ]
                        },
                        "text/html": [
                            "<table>",
                            "<tr><th>Authors Names Beginning with Z</th></tr>",
                            "<tr><td>11</td></tr>",
                            "</table>"
                        ]
                    }
                }
            ],
            "execution_count": 14
        },
        {
            "cell_type": "markdown",
            "source": [
                "5\\. How many books have been identified as printed in a language other than English?  There are four language codes for English: 'en', 'eng', 'en-US', and 'en-UK'.  Use LEFT to answer the question.  (Do not use the wildcard)\n",
                "\n",
                "You might want to use one of these [comparison operators](https://docs.microsoft.com/en-us/sql/t-sql/language-elements/comparison-operators-transact-sql?view=sql-server-ver15)."
            ],
            "metadata": {
                "azdata_cell_guid": "7066afeb-79d2-4e7f-b497-cbde17655b19"
            },
            "attachments": {}
        },
        {
            "cell_type": "code",
            "source": [
                "-- Code here:\r\n",
                "SELECT COUNT(LEFT(language_code, 2)) FROM BooksDB.dbo.books\r\n",
                "WHERE LEFT(language_code, 2) <> 'en';"
            ],
            "metadata": {
                "azdata_cell_guid": "5a85f5ae-dd59-4fa1-828a-c63fa330ff7f",
                "language": "sql"
            },
            "outputs": [
                {
                    "output_type": "display_data",
                    "data": {
                        "text/html": "(1 row affected)"
                    },
                    "metadata": {}
                },
                {
                    "output_type": "display_data",
                    "data": {
                        "text/html": "Total execution time: 00:00:00.048"
                    },
                    "metadata": {}
                },
                {
                    "output_type": "execute_result",
                    "metadata": {},
                    "execution_count": 32,
                    "data": {
                        "application/vnd.dataresource+json": {
                            "schema": {
                                "fields": [
                                    {
                                        "name": "(No column name)"
                                    }
                                ]
                            },
                            "data": [
                                {
                                    "0": "186"
                                }
                            ]
                        },
                        "text/html": [
                            "<table>",
                            "<tr><th>(No column name)</th></tr>",
                            "<tr><td>186</td></tr>",
                            "</table>"
                        ]
                    }
                }
            ],
            "execution_count": 32
        },
        {
            "cell_type": "markdown",
            "source": [
                "6\\. Retry question 5 using SUBSTRING."
            ],
            "metadata": {
                "azdata_cell_guid": "93153cd1-ecea-4e4b-87f5-2214993a7291"
            },
            "attachments": {}
        },
        {
            "cell_type": "code",
            "source": [
                "-- Code here:\r\n",
                "SELECT COUNT(SUBSTRING(language_code,1,3))\r\n",
                "FROM BooksDB.dbo.books\r\n",
                "WHERE  LEFT(language_code, 2) <> 'en';"
            ],
            "metadata": {
                "azdata_cell_guid": "7756ae02-4ec2-4456-b3a7-c3604bf07e26",
                "language": "sql"
            },
            "outputs": [
                {
                    "output_type": "display_data",
                    "data": {
                        "text/html": "(1 row affected)"
                    },
                    "metadata": {}
                },
                {
                    "output_type": "display_data",
                    "data": {
                        "text/html": "Total execution time: 00:00:00.053"
                    },
                    "metadata": {}
                },
                {
                    "output_type": "execute_result",
                    "metadata": {},
                    "execution_count": 39,
                    "data": {
                        "application/vnd.dataresource+json": {
                            "schema": {
                                "fields": [
                                    {
                                        "name": "(No column name)"
                                    }
                                ]
                            },
                            "data": [
                                {
                                    "0": "186"
                                }
                            ]
                        },
                        "text/html": [
                            "<table>",
                            "<tr><th>(No column name)</th></tr>",
                            "<tr><td>186</td></tr>",
                            "</table>"
                        ]
                    }
                }
            ],
            "execution_count": 39
        },
        {
            "cell_type": "markdown",
            "source": [
                "7.  Create a column that returns the title, authors, and language codes.  Concatenate these elements so that they return in the following way: title by authors in language\\_code language.\n",
                "\n",
                "> A.  Check each selected column to see where any values are NULL.  Did any of the columns contain NULL values?  If so, which one?"
            ],
            "metadata": {
                "azdata_cell_guid": "c8124542-ea76-4153-96ef-f4db908fbd6c"
            },
            "attachments": {}
        },
        {
            "cell_type": "code",
            "source": [
                "-- Code here:\r\n",
                "SELECT TOP 10 CONCAT(title, ' by ', authors, ' code: ', language_code) AS 'Title by Author code: Language Code' FROM BooksDB.dbo.books\r\n",
                "WHERE language_code IS NULL;"
            ],
            "metadata": {
                "azdata_cell_guid": "26705af1-6191-48b9-b649-7bc93cad102d",
                "language": "sql"
            },
            "outputs": [
                {
                    "output_type": "display_data",
                    "data": {
                        "text/html": "(10 rows affected)"
                    },
                    "metadata": {}
                },
                {
                    "output_type": "display_data",
                    "data": {
                        "text/html": "Total execution time: 00:00:00.059"
                    },
                    "metadata": {}
                },
                {
                    "output_type": "execute_result",
                    "metadata": {},
                    "execution_count": 68,
                    "data": {
                        "application/vnd.dataresource+json": {
                            "schema": {
                                "fields": [
                                    {
                                        "name": "Title by Author code: Language Code"
                                    }
                                ]
                            },
                            "data": [
                                {
                                    "0": "Life of Pi by Yann Martel code: "
                                },
                                {
                                    "0": "The Five People You Meet in Heaven by Mitch Albom code: "
                                },
                                {
                                    "0": "A Christmas Carol by Charles Dickens code: "
                                },
                                {
                                    "0": "Carrie by Stephen King code: "
                                },
                                {
                                    "0": "The Hunt for Red October (Jack Ryan Universe, #4) by Tom Clancy code: "
                                },
                                {
                                    "0": "Where the Red Fern Grows by Wilson Rawls code: "
                                },
                                {
                                    "0": "Fried Green Tomatoes at the Whistle Stop Cafe by Fannie Flagg code: "
                                },
                                {
                                    "0": "The Three Musketeers by Alexandre Dumas code: "
                                },
                                {
                                    "0": "In Her Shoes by Jennifer Weiner code: "
                                },
                                {
                                    "0": "The Andromeda Strain by Michael Crichton code: "
                                }
                            ]
                        },
                        "text/html": [
                            "<table>",
                            "<tr><th>Title by Author code: Language Code</th></tr>",
                            "<tr><td>Life of Pi by Yann Martel code: </td></tr>",
                            "<tr><td>The Five People You Meet in Heaven by Mitch Albom code: </td></tr>",
                            "<tr><td>A Christmas Carol by Charles Dickens code: </td></tr>",
                            "<tr><td>Carrie by Stephen King code: </td></tr>",
                            "<tr><td>The Hunt for Red October (Jack Ryan Universe, #4) by Tom Clancy code: </td></tr>",
                            "<tr><td>Where the Red Fern Grows by Wilson Rawls code: </td></tr>",
                            "<tr><td>Fried Green Tomatoes at the Whistle Stop Cafe by Fannie Flagg code: </td></tr>",
                            "<tr><td>The Three Musketeers by Alexandre Dumas code: </td></tr>",
                            "<tr><td>In Her Shoes by Jennifer Weiner code: </td></tr>",
                            "<tr><td>The Andromeda Strain by Michael Crichton code: </td></tr>",
                            "</table>"
                        ]
                    }
                }
            ],
            "execution_count": 68
        },
        {
            "cell_type": "markdown",
            "source": [
                "8.  Update the query in question 7 using COALESCE to change the language code values from NULL to 'unknown'.\n",
                "\n",
                "> A.  Has this changed the language\\_code  where the values are NULL?"
            ],
            "metadata": {
                "azdata_cell_guid": "17fd76a8-afa7-4d86-a200-2902d7310a2b"
            },
            "attachments": {}
        },
        {
            "cell_type": "code",
            "source": [
                "-- Code here:\r\n",
                "SELECT TOP 10 CONCAT(title, ' by ', authors, ' code: ', COALESCE(language_code, 'unknown')) FROM BooksDB.dbo.books\r\n",
                "WHERE language_code IS NULL; "
            ],
            "metadata": {
                "azdata_cell_guid": "f9694996-4545-48b9-9981-325b5c590570",
                "language": "sql"
            },
            "outputs": [
                {
                    "output_type": "display_data",
                    "data": {
                        "text/html": "(10 rows affected)"
                    },
                    "metadata": {}
                },
                {
                    "output_type": "display_data",
                    "data": {
                        "text/html": "Total execution time: 00:00:00.046"
                    },
                    "metadata": {}
                },
                {
                    "output_type": "execute_result",
                    "metadata": {},
                    "execution_count": 67,
                    "data": {
                        "application/vnd.dataresource+json": {
                            "schema": {
                                "fields": [
                                    {
                                        "name": "(No column name)"
                                    }
                                ]
                            },
                            "data": [
                                {
                                    "0": "Life of Pi by Yann Martel code: unknown"
                                },
                                {
                                    "0": "The Five People You Meet in Heaven by Mitch Albom code: unknown"
                                },
                                {
                                    "0": "A Christmas Carol by Charles Dickens code: unknown"
                                },
                                {
                                    "0": "Carrie by Stephen King code: unknown"
                                },
                                {
                                    "0": "The Hunt for Red October (Jack Ryan Universe, #4) by Tom Clancy code: unknown"
                                },
                                {
                                    "0": "Where the Red Fern Grows by Wilson Rawls code: unknown"
                                },
                                {
                                    "0": "Fried Green Tomatoes at the Whistle Stop Cafe by Fannie Flagg code: unknown"
                                },
                                {
                                    "0": "The Three Musketeers by Alexandre Dumas code: unknown"
                                },
                                {
                                    "0": "In Her Shoes by Jennifer Weiner code: unknown"
                                },
                                {
                                    "0": "The Andromeda Strain by Michael Crichton code: unknown"
                                }
                            ]
                        },
                        "text/html": [
                            "<table>",
                            "<tr><th>(No column name)</th></tr>",
                            "<tr><td>Life of Pi by Yann Martel code: unknown</td></tr>",
                            "<tr><td>The Five People You Meet in Heaven by Mitch Albom code: unknown</td></tr>",
                            "<tr><td>A Christmas Carol by Charles Dickens code: unknown</td></tr>",
                            "<tr><td>Carrie by Stephen King code: unknown</td></tr>",
                            "<tr><td>The Hunt for Red October (Jack Ryan Universe, #4) by Tom Clancy code: unknown</td></tr>",
                            "<tr><td>Where the Red Fern Grows by Wilson Rawls code: unknown</td></tr>",
                            "<tr><td>Fried Green Tomatoes at the Whistle Stop Cafe by Fannie Flagg code: unknown</td></tr>",
                            "<tr><td>The Three Musketeers by Alexandre Dumas code: unknown</td></tr>",
                            "<tr><td>In Her Shoes by Jennifer Weiner code: unknown</td></tr>",
                            "<tr><td>The Andromeda Strain by Michael Crichton code: unknown</td></tr>",
                            "</table>"
                        ]
                    }
                }
            ],
            "execution_count": 67
        },
        {
            "cell_type": "markdown",
            "source": [
                "9\\. Revisit question 7 using ISNULL instead of COALESCE.\n",
                "\n",
                "> A.  Has this changed the language\\_code  where the values are NULL?"
            ],
            "metadata": {
                "azdata_cell_guid": "57b87290-135f-478d-bf1c-2262759f8da5"
            },
            "attachments": {}
        },
        {
            "cell_type": "code",
            "source": [
                "-- Code here:\r\n",
                "SELECT TOP 10 CONCAT(title, ' by ', authors, ' code: ', ISNULL(language_code, 'unknown')) FROM BooksDB.dbo.books\r\n",
                "WHERE language_code IS NULL;"
            ],
            "metadata": {
                "azdata_cell_guid": "a9670717-6dc6-4685-9f62-7a588753b4a9",
                "language": "sql"
            },
            "outputs": [
                {
                    "output_type": "display_data",
                    "data": {
                        "text/html": "(10 rows affected)"
                    },
                    "metadata": {}
                },
                {
                    "output_type": "display_data",
                    "data": {
                        "text/html": "Total execution time: 00:00:00.040"
                    },
                    "metadata": {}
                },
                {
                    "output_type": "execute_result",
                    "metadata": {},
                    "execution_count": 66,
                    "data": {
                        "application/vnd.dataresource+json": {
                            "schema": {
                                "fields": [
                                    {
                                        "name": "(No column name)"
                                    }
                                ]
                            },
                            "data": [
                                {
                                    "0": "Life of Pi by Yann Martel code: unknown"
                                },
                                {
                                    "0": "The Five People You Meet in Heaven by Mitch Albom code: unknown"
                                },
                                {
                                    "0": "A Christmas Carol by Charles Dickens code: unknown"
                                },
                                {
                                    "0": "Carrie by Stephen King code: unknown"
                                },
                                {
                                    "0": "The Hunt for Red October (Jack Ryan Universe, #4) by Tom Clancy code: unknown"
                                },
                                {
                                    "0": "Where the Red Fern Grows by Wilson Rawls code: unknown"
                                },
                                {
                                    "0": "Fried Green Tomatoes at the Whistle Stop Cafe by Fannie Flagg code: unknown"
                                },
                                {
                                    "0": "The Three Musketeers by Alexandre Dumas code: unknown"
                                },
                                {
                                    "0": "In Her Shoes by Jennifer Weiner code: unknown"
                                },
                                {
                                    "0": "The Andromeda Strain by Michael Crichton code: unknown"
                                }
                            ]
                        },
                        "text/html": [
                            "<table>",
                            "<tr><th>(No column name)</th></tr>",
                            "<tr><td>Life of Pi by Yann Martel code: unknown</td></tr>",
                            "<tr><td>The Five People You Meet in Heaven by Mitch Albom code: unknown</td></tr>",
                            "<tr><td>A Christmas Carol by Charles Dickens code: unknown</td></tr>",
                            "<tr><td>Carrie by Stephen King code: unknown</td></tr>",
                            "<tr><td>The Hunt for Red October (Jack Ryan Universe, #4) by Tom Clancy code: unknown</td></tr>",
                            "<tr><td>Where the Red Fern Grows by Wilson Rawls code: unknown</td></tr>",
                            "<tr><td>Fried Green Tomatoes at the Whistle Stop Cafe by Fannie Flagg code: unknown</td></tr>",
                            "<tr><td>The Three Musketeers by Alexandre Dumas code: unknown</td></tr>",
                            "<tr><td>In Her Shoes by Jennifer Weiner code: unknown</td></tr>",
                            "<tr><td>The Andromeda Strain by Michael Crichton code: unknown</td></tr>",
                            "</table>"
                        ]
                    }
                }
            ],
            "execution_count": 66
        }
    ]
}